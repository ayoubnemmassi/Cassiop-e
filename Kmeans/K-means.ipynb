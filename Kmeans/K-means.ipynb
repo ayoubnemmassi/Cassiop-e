{
 "cells": [
  {
   "cell_type": "code",
   "execution_count": 1,
   "id": "ignored-prefix",
   "metadata": {},
   "outputs": [],
   "source": [
    "import pandas as pd\n",
    "import numpy as np\n",
    "import matplotlib.pyplot as plt\n",
    "%matplotlib inline\n",
    "import seaborn as sns\n",
    "import sklearn\n",
    "from sklearn.preprocessing import StandardScaler\n",
    "from sklearn.cluster import KMeans\n",
    "from sklearn import metrics\n",
    "from sklearn.cluster import AgglomerativeClustering"
   ]
  },
  {
   "cell_type": "code",
   "execution_count": 2,
   "id": "opponent-decline",
   "metadata": {},
   "outputs": [
    {
     "data": {
      "text/html": [
       "<div>\n",
       "<style scoped>\n",
       "    .dataframe tbody tr th:only-of-type {\n",
       "        vertical-align: middle;\n",
       "    }\n",
       "\n",
       "    .dataframe tbody tr th {\n",
       "        vertical-align: top;\n",
       "    }\n",
       "\n",
       "    .dataframe thead th {\n",
       "        text-align: right;\n",
       "    }\n",
       "</style>\n",
       "<table border=\"1\" class=\"dataframe\">\n",
       "  <thead>\n",
       "    <tr style=\"text-align: right;\">\n",
       "      <th></th>\n",
       "      <th>rowId</th>\n",
       "      <th>Date &amp; Time</th>\n",
       "      <th>Usage [kW]</th>\n",
       "      <th>Generation [kW]</th>\n",
       "      <th>CT15_Amperage [A]</th>\n",
       "      <th>CT13_Amperage [A]</th>\n",
       "      <th>CT12_Amperage [A]</th>\n",
       "      <th>CT11_Amperage [A]</th>\n",
       "      <th>CT10_Amperage [A]</th>\n",
       "      <th>CT9_Amperage [A]</th>\n",
       "      <th>...</th>\n",
       "      <th>L2_Voltage [V]</th>\n",
       "      <th>L1_Voltage [V]</th>\n",
       "      <th>CT5_Amperage [A]</th>\n",
       "      <th>CT4_Amperage [A]</th>\n",
       "      <th>CT14_Amperage [A]</th>\n",
       "      <th>P_123| [kW]</th>\n",
       "      <th>P_456| [kW]</th>\n",
       "      <th>P_global| [kW]</th>\n",
       "      <th>P_heat| [kW]</th>\n",
       "      <th>P_ground_floor| [kW]</th>\n",
       "    </tr>\n",
       "  </thead>\n",
       "  <tbody>\n",
       "    <tr>\n",
       "      <th>0</th>\n",
       "      <td>1.0</td>\n",
       "      <td>2021-01-06 13:23:59</td>\n",
       "      <td>-0.0</td>\n",
       "      <td>7.881</td>\n",
       "      <td>0.117</td>\n",
       "      <td>0.132</td>\n",
       "      <td>1.346</td>\n",
       "      <td>1.113</td>\n",
       "      <td>3.253</td>\n",
       "      <td>2.675</td>\n",
       "      <td>...</td>\n",
       "      <td>233.855011</td>\n",
       "      <td>234.567011</td>\n",
       "      <td>1.071</td>\n",
       "      <td>2.454</td>\n",
       "      <td>0.128</td>\n",
       "      <td>2.164</td>\n",
       "      <td>0.260</td>\n",
       "      <td>3.962</td>\n",
       "      <td>0.001</td>\n",
       "      <td>1.494</td>\n",
       "    </tr>\n",
       "    <tr>\n",
       "      <th>1</th>\n",
       "      <td>2.0</td>\n",
       "      <td>2021-01-06 13:23:58</td>\n",
       "      <td>-0.0</td>\n",
       "      <td>7.836</td>\n",
       "      <td>0.128</td>\n",
       "      <td>0.129</td>\n",
       "      <td>1.347</td>\n",
       "      <td>1.122</td>\n",
       "      <td>3.243</td>\n",
       "      <td>2.699</td>\n",
       "      <td>...</td>\n",
       "      <td>233.854011</td>\n",
       "      <td>234.581011</td>\n",
       "      <td>1.071</td>\n",
       "      <td>2.455</td>\n",
       "      <td>0.126</td>\n",
       "      <td>2.161</td>\n",
       "      <td>0.257</td>\n",
       "      <td>3.923</td>\n",
       "      <td>-0.000</td>\n",
       "      <td>1.495</td>\n",
       "    </tr>\n",
       "    <tr>\n",
       "      <th>2</th>\n",
       "      <td>3.0</td>\n",
       "      <td>2021-01-06 13:23:57</td>\n",
       "      <td>-0.0</td>\n",
       "      <td>7.746</td>\n",
       "      <td>0.122</td>\n",
       "      <td>0.133</td>\n",
       "      <td>1.343</td>\n",
       "      <td>1.116</td>\n",
       "      <td>3.251</td>\n",
       "      <td>2.721</td>\n",
       "      <td>...</td>\n",
       "      <td>233.895011</td>\n",
       "      <td>234.593011</td>\n",
       "      <td>1.064</td>\n",
       "      <td>2.457</td>\n",
       "      <td>0.125</td>\n",
       "      <td>2.159</td>\n",
       "      <td>0.260</td>\n",
       "      <td>3.833</td>\n",
       "      <td>0.001</td>\n",
       "      <td>1.493</td>\n",
       "    </tr>\n",
       "    <tr>\n",
       "      <th>3</th>\n",
       "      <td>4.0</td>\n",
       "      <td>2021-01-06 13:23:56</td>\n",
       "      <td>-0.0</td>\n",
       "      <td>7.784</td>\n",
       "      <td>0.113</td>\n",
       "      <td>0.121</td>\n",
       "      <td>1.351</td>\n",
       "      <td>1.123</td>\n",
       "      <td>3.260</td>\n",
       "      <td>2.709</td>\n",
       "      <td>...</td>\n",
       "      <td>234.012011</td>\n",
       "      <td>234.727011</td>\n",
       "      <td>1.068</td>\n",
       "      <td>2.442</td>\n",
       "      <td>0.120</td>\n",
       "      <td>2.170</td>\n",
       "      <td>0.262</td>\n",
       "      <td>3.860</td>\n",
       "      <td>-0.000</td>\n",
       "      <td>1.492</td>\n",
       "    </tr>\n",
       "    <tr>\n",
       "      <th>4</th>\n",
       "      <td>5.0</td>\n",
       "      <td>2021-01-06 13:23:55</td>\n",
       "      <td>-0.0</td>\n",
       "      <td>7.793</td>\n",
       "      <td>0.121</td>\n",
       "      <td>0.142</td>\n",
       "      <td>1.348</td>\n",
       "      <td>1.120</td>\n",
       "      <td>3.268</td>\n",
       "      <td>2.674</td>\n",
       "      <td>...</td>\n",
       "      <td>234.062011</td>\n",
       "      <td>234.792011</td>\n",
       "      <td>1.061</td>\n",
       "      <td>2.429</td>\n",
       "      <td>0.129</td>\n",
       "      <td>2.172</td>\n",
       "      <td>0.262</td>\n",
       "      <td>3.868</td>\n",
       "      <td>0.001</td>\n",
       "      <td>1.490</td>\n",
       "    </tr>\n",
       "  </tbody>\n",
       "</table>\n",
       "<p>5 rows × 27 columns</p>\n",
       "</div>"
      ],
      "text/plain": [
       "   rowId          Date & Time  Usage [kW]  Generation [kW]  CT15_Amperage [A]  \\\n",
       "0    1.0  2021-01-06 13:23:59        -0.0            7.881              0.117   \n",
       "1    2.0  2021-01-06 13:23:58        -0.0            7.836              0.128   \n",
       "2    3.0  2021-01-06 13:23:57        -0.0            7.746              0.122   \n",
       "3    4.0  2021-01-06 13:23:56        -0.0            7.784              0.113   \n",
       "4    5.0  2021-01-06 13:23:55        -0.0            7.793              0.121   \n",
       "\n",
       "   CT13_Amperage [A]  CT12_Amperage [A]  CT11_Amperage [A]  CT10_Amperage [A]  \\\n",
       "0              0.132              1.346              1.113              3.253   \n",
       "1              0.129              1.347              1.122              3.243   \n",
       "2              0.133              1.343              1.116              3.251   \n",
       "3              0.121              1.351              1.123              3.260   \n",
       "4              0.142              1.348              1.120              3.268   \n",
       "\n",
       "   CT9_Amperage [A]  ...  L2_Voltage [V]  L1_Voltage [V]  CT5_Amperage [A]  \\\n",
       "0             2.675  ...      233.855011      234.567011             1.071   \n",
       "1             2.699  ...      233.854011      234.581011             1.071   \n",
       "2             2.721  ...      233.895011      234.593011             1.064   \n",
       "3             2.709  ...      234.012011      234.727011             1.068   \n",
       "4             2.674  ...      234.062011      234.792011             1.061   \n",
       "\n",
       "   CT4_Amperage [A]  CT14_Amperage [A]  P_123| [kW]  P_456| [kW]  \\\n",
       "0             2.454              0.128        2.164        0.260   \n",
       "1             2.455              0.126        2.161        0.257   \n",
       "2             2.457              0.125        2.159        0.260   \n",
       "3             2.442              0.120        2.170        0.262   \n",
       "4             2.429              0.129        2.172        0.262   \n",
       "\n",
       "   P_global| [kW]  P_heat| [kW]  P_ground_floor| [kW]  \n",
       "0           3.962         0.001                 1.494  \n",
       "1           3.923        -0.000                 1.495  \n",
       "2           3.833         0.001                 1.493  \n",
       "3           3.860        -0.000                 1.492  \n",
       "4           3.868         0.001                 1.490  \n",
       "\n",
       "[5 rows x 27 columns]"
      ]
     },
     "execution_count": 2,
     "metadata": {},
     "output_type": "execute_result"
    }
   ],
   "source": [
    "df = pd.read_csv('data_index.csv')\n",
    "df.head()"
   ]
  },
  {
   "cell_type": "code",
   "execution_count": 3,
   "id": "medium-certificate",
   "metadata": {},
   "outputs": [
    {
     "data": {
      "text/plain": [
       "(54495, 27)"
      ]
     },
     "execution_count": 3,
     "metadata": {},
     "output_type": "execute_result"
    }
   ],
   "source": [
    "sample_df = df[(df['rowId'] % 10) == 0] ## On a pris chaque 10 partie\n",
    "sample_df.shape"
   ]
  },
  {
   "cell_type": "code",
   "execution_count": 4,
   "id": "facial-binary",
   "metadata": {},
   "outputs": [
    {
     "name": "stdout",
     "output_type": "stream",
     "text": [
      "Index(['rowId', 'Generation [kW]', 'CT15_Amperage [A]', 'CT13_Amperage [A]',\n",
      "       'CT12_Amperage [A]', 'CT11_Amperage [A]', 'CT10_Amperage [A]',\n",
      "       'CT9_Amperage [A]', 'CT8_Amperage [A]', 'CT7_Amperage [A]',\n",
      "       'CT6_Amperage [A]', 'CT3_Amperage [A]', 'CT2_Amperage [A]',\n",
      "       'CT1_Amperage [A]', 'L3_Voltage [V]', 'L2_Voltage [V]',\n",
      "       'L1_Voltage [V]', 'CT5_Amperage [A]', 'CT4_Amperage [A]',\n",
      "       'CT14_Amperage [A]', 'P_123| [kW]', 'P_456| [kW]', 'P_global| [kW]',\n",
      "       'P_heat| [kW]', 'P_ground_floor| [kW]'],\n",
      "      dtype='object')\n"
     ]
    }
   ],
   "source": [
    "df1 = sample_df.drop(columns =['Date & Time','Usage [kW]'])\n",
    "print(df1.columns)"
   ]
  },
  {
   "cell_type": "code",
   "execution_count": 5,
   "id": "directed-determination",
   "metadata": {},
   "outputs": [
    {
     "data": {
      "text/plain": [
       "array([[-1.73201902,  1.45686535, -0.0479585 , ...,  1.35024903,\n",
       "        -1.1529549 , -0.12855033],\n",
       "       [-1.73195546,  0.29709297, -1.18815178, ...,  0.34613348,\n",
       "        -0.81333549, -0.11171405],\n",
       "       [-1.73189189,  0.25768323,  0.02330358, ...,  0.28760709,\n",
       "        -0.81333549, -0.10497954],\n",
       "       ...,\n",
       "       [ 1.73189189,  1.50666461, -0.93928872, ...,  0.77794469,\n",
       "        -0.72994007,  2.30875724],\n",
       "       [ 1.73195546, -0.81952217, -1.15457943, ..., -0.7210895 ,\n",
       "        -0.98257922, -0.58312218],\n",
       "       [ 1.73201902,  0.67779598, -0.639988  , ...,  0.37981868,\n",
       "        -0.97616415,  1.09263966]])"
      ]
     },
     "execution_count": 5,
     "metadata": {},
     "output_type": "execute_result"
    }
   ],
   "source": [
    "cols_of_interest = ['Generation [kW]','CT15_Amperage [A]','CT13_Amperage [A]','CT12_Amperage [A]','CT11_Amperage [A]','CT10_Amperage [A]','CT9_Amperage [A]','CT8_Amperage [A]','CT7_Amperage [A]','CT6_Amperage [A]','CT3_Amperage [A]','CT2_Amperage [A]','CT1_Amperage [A]','L3_Voltage [V]', 'L2_Voltage [V]',\n",
    "       'L1_Voltage [V]', 'CT5_Amperage [A]', 'CT4_Amperage [A]',\n",
    "       'CT14_Amperage [A]', 'P_123| [kW]', 'P_456| [kW]', 'P_global| [kW]',\n",
    "       'P_heat| [kW]', 'P_ground_floor| [kW]']\n",
    "data=df1[cols_of_interest]\n",
    "data.head()\n",
    "X = StandardScaler().fit_transform(df1)\n",
    "X"
   ]
  },
  {
   "cell_type": "code",
   "execution_count": 6,
   "id": "listed-judgment",
   "metadata": {},
   "outputs": [],
   "source": [
    "#Set number of clusters at initialisation time\n",
    "k_means = KMeans(n_clusters=12)\n",
    "#Run the clustering algorithm\n",
    "model = k_means.fit(X)\n",
    "model\n",
    "#Generate cluster predictions and store in y_hat\n",
    "y_hat = k_means.predict(X)"
   ]
  },
  {
   "cell_type": "code",
   "execution_count": 7,
   "id": "congressional-mailman",
   "metadata": {},
   "outputs": [
    {
     "data": {
      "text/plain": [
       "0.13985568479840865"
      ]
     },
     "execution_count": 7,
     "metadata": {},
     "output_type": "execute_result"
    }
   ],
   "source": [
    "from sklearn import metrics\n",
    "labels = k_means.labels_\n",
    "metrics.silhouette_score(X, labels, metric = 'euclidean')"
   ]
  },
  {
   "cell_type": "code",
   "execution_count": 8,
   "id": "wooden-chambers",
   "metadata": {},
   "outputs": [
    {
     "data": {
      "text/plain": [
       "7021.206101122688"
      ]
     },
     "execution_count": 8,
     "metadata": {},
     "output_type": "execute_result"
    }
   ],
   "source": [
    "metrics.calinski_harabasz_score(X, labels)"
   ]
  },
  {
   "cell_type": "code",
   "execution_count": 9,
   "id": "coupled-license",
   "metadata": {},
   "outputs": [],
   "source": [
    "k_means_8 = KMeans(n_clusters=8) #on a commence par 8 clusters et apres grace a la methode du elbow on a pu voir que le meilleur nombre de cluster a prendre c'est 5\n",
    "model = k_means_8.fit(X)\n",
    "y_hat_8 = k_means_8.predict(X)"
   ]
  },
  {
   "cell_type": "code",
   "execution_count": 10,
   "id": "cooked-society",
   "metadata": {},
   "outputs": [
    {
     "data": {
      "text/plain": [
       "0.1581279314155001"
      ]
     },
     "execution_count": 10,
     "metadata": {},
     "output_type": "execute_result"
    }
   ],
   "source": [
    "labels_8 = k_means_8.labels_\n",
    "metrics.silhouette_score(X, labels_8, metric = 'euclidean')"
   ]
  },
  {
   "cell_type": "code",
   "execution_count": 11,
   "id": "canadian-spell",
   "metadata": {},
   "outputs": [
    {
     "data": {
      "text/plain": [
       "8463.133483315165"
      ]
     },
     "execution_count": 11,
     "metadata": {},
     "output_type": "execute_result"
    }
   ],
   "source": [
    "metrics.calinski_harabasz_score(X, labels_8)"
   ]
  },
  {
   "cell_type": "code",
   "execution_count": null,
   "id": "aquatic-district",
   "metadata": {},
   "outputs": [],
   "source": [
    "#for each value of k, we can initialise k_means and use inertia to identify the sum of squared distances of samples to the nearest cluster centre\n",
    "sum_of_squared_distances = []\n",
    "K = range(1,15)\n",
    "for k in K:\n",
    "    k_means = KMeans(n_clusters=k)\n",
    "    model = k_means.fit(X)\n",
    "    sum_of_squared_distances.append(k_means.inertia_)"
   ]
  },
  {
   "cell_type": "code",
   "execution_count": null,
   "id": "raising-sauce",
   "metadata": {
    "scrolled": true
   },
   "outputs": [],
   "source": [
    "plt.plot(K, sum_of_squared_distances, 'bx-')\n",
    "plt.xlabel('k')\n",
    "plt.ylabel('sum_of_squared_distances')\n",
    "plt.title('elbow method for optimal k')\n",
    "plt.show()"
   ]
  },
  {
   "cell_type": "code",
   "execution_count": null,
   "id": "unknown-evening",
   "metadata": {},
   "outputs": [],
   "source": [
    "k_means_5 = KMeans(n_clusters=5) # on a choisit 5 clusters, car c'est le point ou on a le elbow\n",
    "model = k_means_5.fit(X)\n",
    "y_hat_5 = k_means_5.predict(X)\n",
    "labels_5 = k_means_5.labels_\n",
    "score_s = metrics.silhouette_score(X, labels_5, metric = 'euclidean')\n",
    "score_c = metrics.calinski_harabasz_score(X, labels_5)\n",
    "print(\"Score silhouette:\",score_s,\"\\n\") #les valeurs en general sont entre -1 et 1 , notre valeur est >0 , ce qui indique que c'est bon\n",
    "print(\"Score calinski:\", score_c)  # comme on a un score qui est eleve selon la methode de calinski_harabasz on a eu une bonne predicition, en fait on peut la comparer a la valeur obtenue avec 8 clusters et on peut clairement voir qu'elle est superieur ce qui indique une meilleure prediction"
   ]
  },
  {
   "cell_type": "code",
   "execution_count": null,
   "id": "faced-joshua",
   "metadata": {},
   "outputs": [],
   "source": []
  },
  {
   "cell_type": "code",
   "execution_count": null,
   "id": "ethical-uncertainty",
   "metadata": {},
   "outputs": [],
   "source": []
  },
  {
   "cell_type": "code",
   "execution_count": null,
   "id": "facial-victoria",
   "metadata": {},
   "outputs": [],
   "source": []
  },
  {
   "cell_type": "code",
   "execution_count": null,
   "id": "spatial-password",
   "metadata": {},
   "outputs": [],
   "source": []
  }
 ],
 "metadata": {
  "kernelspec": {
   "display_name": "Python 3",
   "language": "python",
   "name": "python3"
  },
  "language_info": {
   "codemirror_mode": {
    "name": "ipython",
    "version": 3
   },
   "file_extension": ".py",
   "mimetype": "text/x-python",
   "name": "python",
   "nbconvert_exporter": "python",
   "pygments_lexer": "ipython3",
   "version": "3.8.8"
  }
 },
 "nbformat": 4,
 "nbformat_minor": 5
}
